{
 "cells": [
  {
   "cell_type": "markdown",
   "id": "07ba694f",
   "metadata": {},
   "source": [
    "## THREE IN, THREE OUT\n"
   ]
  },
  {
   "cell_type": "code",
   "execution_count": 1,
   "id": "c5750040",
   "metadata": {},
   "outputs": [
    {
     "name": "stdout",
     "output_type": "stream",
     "text": [
      "Please enter your name Lister\n",
      "What is your age ?39\n",
      "What is your favourite programme?Red Dwarf\n",
      "Lister\n",
      "is\n",
      "39\n",
      "years old and likes\n",
      "Red Dwarf\n"
     ]
    }
   ],
   "source": [
    "name=input(\"Please enter your name \")\n",
    "age=input(\"What is your age ?\")\n",
    "prgrm=input(\"What is your favourite programme?\")\n",
    "print(name)\n",
    "print(\"is\")\n",
    "print(age)\n",
    "print(\"years old and likes\")\n",
    "print(prgrm)"
   ]
  },
  {
   "cell_type": "markdown",
   "id": "bb8b61b5",
   "metadata": {},
   "source": [
    "## NAME SWAPPER"
   ]
  },
  {
   "cell_type": "code",
   "execution_count": 10,
   "id": "749b1b71",
   "metadata": {},
   "outputs": [
    {
     "name": "stdout",
     "output_type": "stream",
     "text": [
      "Enter your forename\n",
      "David\n",
      "Enter your forename\n",
      "Tennant\n",
      "Tennant David\n"
     ]
    }
   ],
   "source": [
    "print(\"Enter your forename\")\n",
    "fname=input()\n",
    "print(\"Enter your forename\")\n",
    "lname=input()\n",
    "print(lname,fname)"
   ]
  },
  {
   "cell_type": "markdown",
   "id": "ae741414",
   "metadata": {},
   "source": [
    "## THREE IN, THREE OUT [FORMATTED]"
   ]
  },
  {
   "cell_type": "code",
   "execution_count": 11,
   "id": "8d0c2825",
   "metadata": {},
   "outputs": [
    {
     "name": "stdout",
     "output_type": "stream",
     "text": [
      "Please enter your name\n",
      "Lister\n",
      "What is your age ?\n",
      "39\n",
      "What is your favourite programme?\n",
      "Red Dwarf\n",
      "Lister 39\n",
      "Likes watching Red Dwarf\n"
     ]
    }
   ],
   "source": [
    "print(\"Please enter your name?\")\n",
    "name=input()\n",
    "print(\"What is your age ?\")\n",
    "age=input()\n",
    "print(\"What is your favourite programme?\")\n",
    "prgrm=input()\n",
    "print(name,age)\n",
    "print(\"Likes watching\",prgrm)"
   ]
  },
  {
   "cell_type": "markdown",
   "id": "4d65d511",
   "metadata": {},
   "source": [
    "## POSTCODE FORMATTER"
   ]
  },
  {
   "cell_type": "code",
   "execution_count": 4,
   "id": "d00fe93f",
   "metadata": {},
   "outputs": [
    {
     "name": "stdout",
     "output_type": "stream",
     "text": [
      "KY\n",
      "8\n",
      "9\n",
      "hl\n",
      "KY8 9hl\n"
     ]
    }
   ],
   "source": [
    "l1=input()\n",
    "n1=input()\n",
    "n2=input()\n",
    "l2=input()\n",
    "print(l1+n1,n2+l2)"
   ]
  },
  {
   "cell_type": "markdown",
   "id": "2dc57f81",
   "metadata": {},
   "source": [
    "## AREA OF RECTANGLE"
   ]
  },
  {
   "cell_type": "code",
   "execution_count": 3,
   "id": "f9784d1c",
   "metadata": {},
   "outputs": [
    {
     "name": "stdout",
     "output_type": "stream",
     "text": [
      "Please enter the following values\n",
      "Please enter the length of the rectangle\n",
      "12\n",
      "Please enter the length of the rectangle\n",
      "6\n",
      "The area of the rectangle is: 72 square centimetres\n"
     ]
    }
   ],
   "source": [
    "print(\"Please enter the following values\")\n",
    "print(\"Please enter the length of the rectangle\")\n",
    "l=int(input())\n",
    "print(\"Please enter the length of the rectangle\")\n",
    "b=int(input())\n",
    "area=l*b\n",
    "print(\"The area of the rectangle is:\",area,\"square centimetres\")\n"
   ]
  },
  {
   "cell_type": "markdown",
   "id": "a7cac4ba",
   "metadata": {},
   "source": [
    "## NUMBER GENERATOR"
   ]
  },
  {
   "cell_type": "code",
   "execution_count": 3,
   "id": "d5986b41",
   "metadata": {},
   "outputs": [
    {
     "name": "stdout",
     "output_type": "stream",
     "text": [
      "Enter an integer between 0 and 9\n",
      "2\n",
      "6\n",
      "26\n"
     ]
    }
   ],
   "source": [
    "print(\"Enter an integer between 0 and 9\") \n",
    "a=input() \n",
    "b=input() \n",
    "print(a+b)\n"
   ]
  },
  {
   "cell_type": "markdown",
   "id": "718218dc",
   "metadata": {},
   "source": [
    "## POSTCODE FORMATTER"
   ]
  },
  {
   "cell_type": "code",
   "execution_count": 1,
   "id": "66c2d9ab",
   "metadata": {},
   "outputs": [
    {
     "name": "stdout",
     "output_type": "stream",
     "text": [
      "ky\n",
      "8\n",
      "9\n",
      "hl\n",
      "KY8 9HL\n"
     ]
    }
   ],
   "source": [
    "l1=input()\n",
    "n1=input()\n",
    "n2=input()\n",
    "l2=input()\n",
    "print(l1.upper()+n1,n2+l2.upper())"
   ]
  },
  {
   "cell_type": "markdown",
   "id": "b43fa2e8",
   "metadata": {},
   "source": [
    "## NAME LENGTH"
   ]
  },
  {
   "cell_type": "code",
   "execution_count": 3,
   "id": "a6271d45",
   "metadata": {},
   "outputs": [
    {
     "name": "stdout",
     "output_type": "stream",
     "text": [
      "Please enter your forename\n",
      "David\n",
      "Please enter your surname\n",
      "stott\n",
      "There are 10 letters in your name\n"
     ]
    }
   ],
   "source": [
    "print(\"Please enter your forename\")\n",
    "fname=input()\n",
    "print(\"Please enter your surname\")\n",
    "sname=input()\n",
    "print(\"There are\",len(fname)+len(sname),\"letters in your name.\")"
   ]
  },
  {
   "cell_type": "markdown",
   "id": "0510bc8d",
   "metadata": {},
   "source": [
    "## COUNTING VOWELS"
   ]
  },
  {
   "cell_type": "code",
   "execution_count": 15,
   "id": "f47c7baa",
   "metadata": {},
   "outputs": [
    {
     "name": "stdout",
     "output_type": "stream",
     "text": [
      "Please enter a sentence of your choice\n",
      "Luke,Iam your father\n",
      "your sentence contained the following\n",
      "a= 2\n",
      "e= 2\n",
      "i= 1\n",
      "o= 1\n",
      "u= 2\n",
      "This is a total of 8 vowels\n"
     ]
    }
   ],
   "source": [
    "print(\"Please enter a sentence of your choice\")\n",
    "sent=input()\n",
    "sent1=sent.lower()\n",
    "print(\"your sentence contained the following\")\n",
    "print(\"a=\",sent1.count(\"a\"))\n",
    "print(\"e=\",sent1.count(\"e\"))\n",
    "print(\"i=\",sent1.count(\"i\"))\n",
    "print(\"o=\",sent1.count(\"o\"))\n",
    "print(\"u=\",sent1.count(\"u\"))\n",
    "print(\"This is a total of\", sent1.count(\"a\")+sent1.count(\"e\")+sent1.count(\"i\")+sent1.count(\"o\")+sent1.count(\"u\"),\"vowels\")\n"
   ]
  },
  {
   "cell_type": "markdown",
   "id": "e567fa83",
   "metadata": {},
   "source": [
    "## CHANGING GENDER"
   ]
  },
  {
   "cell_type": "code",
   "execution_count": 23,
   "id": "e34f90bd",
   "metadata": {},
   "outputs": [
    {
     "name": "stdout",
     "output_type": "stream",
     "text": [
      "Please enter the male report\n",
      "She should ensure that her answers contain as much detail as possible\n",
      "The female comment is:\n",
      "She should ensure that her answers contain as much detail as possible\n"
     ]
    }
   ],
   "source": [
    "print(\"Please enter the male report\")\n",
    "mr=input()\n",
    "print(\"The female comment is:\")\n",
    "mr=mr.replace(\"He\",\"She\")\n",
    "mr=mr.replace(\"his\",\"her\")\n",
    "print(mr)"
   ]
  },
  {
   "cell_type": "markdown",
   "id": "b5945150",
   "metadata": {},
   "source": [
    "## STOCK CODE GENERATOR"
   ]
  },
  {
   "cell_type": "code",
   "execution_count": 29,
   "id": "3ec3c2be",
   "metadata": {},
   "outputs": [
    {
     "name": "stdout",
     "output_type": "stream",
     "text": [
      "please enter the product name\n",
      "Plans Beans\n",
      "Please enter the year\n",
      "2016\n",
      "The stock code for Plans Beans is:\n",
      "Plns16\n"
     ]
    }
   ],
   "source": [
    "print(\"please enter the product name\")\n",
    "pname=input()\n",
    "print(\"Please enter the year\")\n",
    "pyear=input()\n",
    "print(\"The stock code for\",pname,\"is:\")\n",
    "a=pname[0:2]\n",
    "b=pname[-2:]\n",
    "c=pyear[-2:]\n",
    "print(a+b+c)"
   ]
  },
  {
   "cell_type": "markdown",
   "id": "748919e1",
   "metadata": {},
   "source": [
    "## AUCTION FEE"
   ]
  },
  {
   "cell_type": "code",
   "execution_count": 1,
   "id": "ef9f4993",
   "metadata": {},
   "outputs": [
    {
     "name": "stdout",
     "output_type": "stream",
     "text": [
      "Please enter three costs.\n",
      "12.78\n",
      "6.32\n",
      "34.99\n",
      "The total cost is 54.09\n",
      "The auction companies \n",
      "fee is 5.0\n"
     ]
    }
   ],
   "source": [
    "print(\"Please enter three costs.\")\n",
    "cost1=float(input())\n",
    "cost2=float(input())\n",
    "cost3=float(input())\n",
    "total=cost1+cost2+cost3\n",
    "aucfee=float(total*0.1)\n",
    "aucfee1=round(aucfee,0)\n",
    "print(\"The total cost is\",total)\n",
    "print(\"The auction companies \\nfee is\",aucfee1)"
   ]
  },
  {
   "cell_type": "markdown",
   "id": "e38a8d8d",
   "metadata": {},
   "source": [
    "## AREA OF A CIRCLE"
   ]
  },
  {
   "cell_type": "code",
   "execution_count": 4,
   "id": "0d76d454",
   "metadata": {},
   "outputs": [
    {
     "name": "stdout",
     "output_type": "stream",
     "text": [
      "Please enter the folllowing value in cm\n",
      "please enter the radius of the circle\n",
      "16\n",
      "The area of the circle is :\n",
      "803.84 square centimetres\n"
     ]
    }
   ],
   "source": [
    "print(\"Please enter the folllowing value in cm\")\n",
    "print(\"please enter the radius of the circle\")\n",
    "r=float(input())\n",
    "area=3.14*r**2\n",
    "print(\"The area of the circle is :\")\n",
    "print(area,\"square centimetres\")"
   ]
  },
  {
   "cell_type": "markdown",
   "id": "798a436a",
   "metadata": {},
   "source": [
    "## PRIZE DRAW CHART"
   ]
  },
  {
   "cell_type": "code",
   "execution_count": 9,
   "id": "0150a41b",
   "metadata": {},
   "outputs": [
    {
     "name": "stdout",
     "output_type": "stream",
     "text": [
      "Please enter the volume of the jar(cm3)\n",
      "2712.96\n",
      "Please enter the volume of one sweet(cm3)\n",
      "2.12\n",
      "1279 sweets fit in to the jar.\n"
     ]
    }
   ],
   "source": [
    "print(\"Please enter the volume of the jar(cm3)\")\n",
    "volj=float(input())\n",
    "print(\"Please enter the volume of one sweet(cm3)\")\n",
    "vols=float(input())\n",
    "sweets=int(volj/vols)\n",
    "print(sweets, \"sweets fit in to the jar.\")"
   ]
  },
  {
   "cell_type": "markdown",
   "id": "628d3106",
   "metadata": {},
   "source": [
    "## LEFTOVER PAINT"
   ]
  },
  {
   "cell_type": "code",
   "execution_count": 16,
   "id": "40a7aada",
   "metadata": {},
   "outputs": [
    {
     "name": "stdout",
     "output_type": "stream",
     "text": [
      "Enter the area in m2 to be painted\n",
      "178\n",
      "Enter the area (m2) that a single pot coveres\n",
      "25\n",
      "You will need 8 pots of paint.\n",
      "You can paint 3.0 m2 with the leftover paint.\n"
     ]
    }
   ],
   "source": [
    "import math\n",
    "print(\"Enter the area in m2 to be painted\")\n",
    "tarea=float(input())\n",
    "print(\"Enter the area (m2) that a single pot coveres\")\n",
    "areap=float(input())\n",
    "pots=math.ceil(tarea/areap)\n",
    "left=float(tarea%areap)\n",
    "print(\"You will need\",pots, \"pots of paint.\")\n",
    "print(\"You can paint\",left,\"m2 with the leftover paint.\")"
   ]
  },
  {
   "cell_type": "markdown",
   "id": "932715f2",
   "metadata": {},
   "source": [
    "## LAYING BRICKS"
   ]
  },
  {
   "cell_type": "code",
   "execution_count": 18,
   "id": "b23f6946",
   "metadata": {},
   "outputs": [
    {
     "name": "stdout",
     "output_type": "stream",
     "text": [
      "Please enter the length of a brick in cm:\n",
      "20\n",
      "Please enter the length of the wall in m:\n",
      "9.89\n",
      "47 bricks build one row of wall.\n",
      "This is 2 cm short of the required wall length.\n"
     ]
    }
   ],
   "source": [
    "print(\"Please enter the length of a brick in cm:\")\n",
    "lb=int(input())\n",
    "lbnew=lb+1\n",
    "print(\"Please enter the length of the wall in m:\")\n",
    "lw=float(input())\n",
    "lwnew=lw*100\n",
    "nb=int(lwnew/lbnew)\n",
    "remain=int(lwnew%lbnew)\n",
    "print(nb,\"bricks build one row of wall.\")\n",
    "print(\"This is\",remain,\"cm short of the required wall length.\")"
   ]
  },
  {
   "cell_type": "markdown",
   "id": "90a0e6a3",
   "metadata": {},
   "source": [
    "## ATOMIC WEIGHT OF HYDROCARBONS"
   ]
  },
  {
   "cell_type": "code",
   "execution_count": 19,
   "id": "8e1d6306",
   "metadata": {},
   "outputs": [
    {
     "name": "stdout",
     "output_type": "stream",
     "text": [
      "Enter the number of carbon atoms.\n",
      "3\n",
      "The atomic mass of C3H8 is 44\n"
     ]
    }
   ],
   "source": [
    "print(\"Enter the number of carbon atoms.\")\n",
    "nofc=int(input())\n",
    "nofh=(nofc *2)+2\n",
    "atwt=(nofc*12)+(nofh*1)\n",
    "print(\"The atomic mass of C3H8 is\",atwt)"
   ]
  },
  {
   "cell_type": "markdown",
   "id": "5ceeda9a",
   "metadata": {},
   "source": [
    "## STANDARAD SCRATCH"
   ]
  },
  {
   "cell_type": "code",
   "execution_count": 24,
   "id": "9776ffdf",
   "metadata": {},
   "outputs": [
    {
     "name": "stdout",
     "output_type": "stream",
     "text": [
      "How many par 3 holes are there?\n",
      "6\n",
      "How many par 4 holes are there?\n",
      "10\n",
      "How many par 5 holes are there?\n",
      "2\n",
      "What is the difficulty adjustment for the course?\n",
      "-2\n",
      "The standard scratch of the course is: \n",
      " 66\n"
     ]
    }
   ],
   "source": [
    "print(\"How many par 3 holes are there?\")\n",
    "par3=int(input())\n",
    "print(\"How many par 4 holes are there?\")\n",
    "par4=int(input())\n",
    "print(\"How many par 5 holes are there?\")\n",
    "par5=int(input())\n",
    "print(\"What is the difficulty adjustment for the course?\")\n",
    "difadj=int(input())\n",
    "total=par3*3+par4*4+par5*5\n",
    "stdscratch=total+difadj\n",
    "print(\"The standard scratch of the course is:\",\"\\n\",stdscratch)"
   ]
  },
  {
   "cell_type": "markdown",
   "id": "d58acc3d",
   "metadata": {},
   "source": [
    "## CYCLING SPEED"
   ]
  },
  {
   "cell_type": "code",
   "execution_count": 30,
   "id": "e349e4a3",
   "metadata": {},
   "outputs": [
    {
     "name": "stdout",
     "output_type": "stream",
     "text": [
      "What is the circumference of your wheel in milimetres?\n",
      "1250\n",
      "How many wheel revolutions have taken place in your journey?\n",
      "8920\n",
      "How many minutes did you cycle for?\n",
      "30\n",
      "You covered 11.15 km.\n",
      "At an average speed of 22.3 kmh.\n"
     ]
    }
   ],
   "source": [
    "print(\"What is the circumference of your wheel in milimetres?\")\n",
    "circum=int(input())\n",
    "circum1=circum/1000000\n",
    "print(\"How many wheel revolutions have taken place in your journey?\")\n",
    "revolns=int(input())\n",
    "print(\"How many minutes did you cycle for?\")\n",
    "time=int(input())\n",
    "time1=time/60\n",
    "dist=circum1*revolns\n",
    "speed=dist/time1\n",
    "print(\"You covered\",dist,\"km.\")\n",
    "print(\"At an average speed of\",speed,\"kmh.\")"
   ]
  },
  {
   "cell_type": "markdown",
   "id": "15c166e3",
   "metadata": {},
   "source": [
    "## ADVICE PLEASE"
   ]
  },
  {
   "cell_type": "code",
   "execution_count": 31,
   "id": "c52f556c",
   "metadata": {},
   "outputs": [
    {
     "name": "stdout",
     "output_type": "stream",
     "text": [
      "Would you like some advice?\n",
      "Y\n",
      "Always know where your towel is.\n"
     ]
    }
   ],
   "source": [
    "print(\"Would you like some advice?\")\n",
    "ans=input()\n",
    "if ans==\"Y\" :\n",
    "    print(\"Always know where your towel is.\")"
   ]
  },
  {
   "cell_type": "markdown",
   "id": "884f00b6",
   "metadata": {},
   "source": [
    "## GO WINNER"
   ]
  },
  {
   "cell_type": "code",
   "execution_count": 11,
   "id": "061775f5",
   "metadata": {},
   "outputs": [
    {
     "name": "stdout",
     "output_type": "stream",
     "text": [
      "What is Black's score?\n",
      "88\n",
      "What is White's score?\n",
      "84\n",
      "White is the winner.\n"
     ]
    }
   ],
   "source": [
    "print(\"What is Black's score?\")\n",
    "b=float(input())\n",
    "print(\"What is White's score?\")\n",
    "w=float(input())\n",
    "if b>w :\n",
    "    b=b+6.5\n",
    "if b>w:\n",
    "    print(\"White is the winner.\")\n",
    "else:\n",
    "    print(\"Black is the winner.\")"
   ]
  },
  {
   "cell_type": "markdown",
   "id": "8efbcce6",
   "metadata": {},
   "source": [
    "## CHARITY COLLECTION"
   ]
  },
  {
   "cell_type": "code",
   "execution_count": 12,
   "id": "0a80f5d0",
   "metadata": {},
   "outputs": [
    {
     "name": "stdout",
     "output_type": "stream",
     "text": [
      "Please enter the first amount raised.\n",
      "398\n",
      "Please enter the second amount raised.\n",
      "193\n",
      "Please enter the third amount raised.\n",
      "478\n",
      "A total of 1069 was raised.\n",
      "This willbe doubled to 2138 .\n"
     ]
    }
   ],
   "source": [
    "print(\"Please enter the first amount raised.\")\n",
    "famnt=int(input())\n",
    "print(\"Please enter the second amount raised.\")\n",
    "samnt=int(input())\n",
    "print(\"Please enter the third amount raised.\")\n",
    "tamnt=int(input())\n",
    "total=famnt+samnt+tamnt\n",
    "if total >=1000:\n",
    "    newtotal=2*total\n",
    "print(\"A total of\",total,\"was raised.\")\n",
    "print(\"This willbe doubled to\",newtotal,\".\")"
   ]
  },
  {
   "cell_type": "markdown",
   "id": "b9f5cb8d",
   "metadata": {},
   "source": [
    "## AREA OF RECTANGLE [part 2]"
   ]
  },
  {
   "cell_type": "code",
   "execution_count": 35,
   "id": "e3cf502b",
   "metadata": {},
   "outputs": [
    {
     "name": "stdout",
     "output_type": "stream",
     "text": [
      "Rectangle 1\n",
      "Please enter the length:\n",
      "12\n",
      "Please enter the width:\n",
      "6\n",
      "Rectangle 2\n",
      "Please enter the length:\n",
      "7\n",
      "Please enter the width:\n",
      "9\n",
      "Rectangle 1 has the largest area\n"
     ]
    }
   ],
   "source": [
    "print(\"Rectangle 1\")\n",
    "print(\"Please enter the length:\")\n",
    "l=int(input())\n",
    "print(\"Please enter the width:\")\n",
    "b=int(input())\n",
    "area=l*b\n",
    "print(\"Rectangle 2\")\n",
    "print(\"Please enter the length:\")\n",
    "l1=int(input())\n",
    "print(\"Please enter the width:\")\n",
    "b1=int(input())\n",
    "area1=l1*b1\n",
    "if area> area1:\n",
    "    print(\"Rectangle 1 has the largest area\")\n",
    "else:\n",
    "    print(\"Rectangle 2 has the largest area\")\n"
   ]
  },
  {
   "cell_type": "markdown",
   "id": "c00d030f",
   "metadata": {},
   "source": [
    "## THE MOST VOWELS"
   ]
  },
  {
   "cell_type": "code",
   "execution_count": 6,
   "id": "976a7b68",
   "metadata": {},
   "outputs": [
    {
     "name": "stdout",
     "output_type": "stream",
     "text": [
      "Enter sentence 1\n",
      "You can't handle the truth!\n",
      "Enter sentence 2\n",
      "Houston, we have a problem.\n",
      "The percentage of vowels in sentence 1 is: 25.93\n",
      "The percentage of vowels in sentence 1 is: 33.33\n",
      "Sentence 1 has 7 vowels.\n",
      "Sentence 2 has 9 vowels.\n",
      "Sentence 2 has more vowels\n"
     ]
    }
   ],
   "source": [
    "\n",
    "import math\n",
    "\n",
    "print(\"Enter sentence 1\")\n",
    "sen1=input()\n",
    "print(\"Enter sentence 2\")\n",
    "sen2=input()\n",
    "sen3=sen1.lower()\n",
    "sen4=sen2.lower()\n",
    "\n",
    "a=sen3.count(\"a\")\n",
    "e=sen3.count(\"e\")\n",
    "i=sen3.count(\"i\")\n",
    "o=sen3.count(\"o\")\n",
    "u=sen3.count(\"u\")\n",
    "\n",
    "total1=len(sen1)\n",
    "\n",
    "total3=a+e+i+o+u\n",
    "\n",
    "percent1=round((total3/total1)*100,2)\n",
    "\n",
    "a1=sen4.count(\"a\")\n",
    "e1=sen4.count(\"e\")\n",
    "i1=sen4.count(\"i\")\n",
    "o1=sen4.count(\"o\")\n",
    "u1=sen4.count(\"u\")\n",
    "\n",
    "total2=len(sen2)\n",
    "\n",
    "total4=a1+e1+i1+o1+u1\n",
    "\n",
    "percent2=round((total4/total2)*100,2)\n",
    "\n",
    "print(\"The percentage of vowels in sentence 1 is:\",percent1)\n",
    "print(\"The percentage of vowels in sentence 1 is:\",percent2)\n",
    "print(\"Sentence 1 has\",total3,\"vowels.\")\n",
    "print(\"Sentence 2 has\",total4,\"vowels.\")\n",
    "if  total4 > total3:\n",
    "    print(\"Sentence 2 has more vowels\")\n",
    "else:\n",
    "    print(\"Sentence 2 has more vowels.\")"
   ]
  },
  {
   "cell_type": "markdown",
   "id": "ef2ac707",
   "metadata": {},
   "source": [
    "## ADVICE PLEASE [part 2]"
   ]
  },
  {
   "cell_type": "code",
   "execution_count": 14,
   "id": "310ae279",
   "metadata": {},
   "outputs": [
    {
     "name": "stdout",
     "output_type": "stream",
     "text": [
      "Would you like some advice?\n",
      "G\n",
      "Sorry, you were asked to enter Y or N\n"
     ]
    }
   ],
   "source": [
    "print(\"Would you like some advice?\")\n",
    "ans=input()\n",
    "if ans==\"Y\" :\n",
    "    print(\"Always know where your towel is.\")\n",
    "else:\n",
    "    print(\"Sorry, you were asked to enter Y or N\")"
   ]
  },
  {
   "cell_type": "markdown",
   "id": "a2d2d30e",
   "metadata": {},
   "source": [
    "## CAR TYRE CHECK"
   ]
  },
  {
   "cell_type": "code",
   "execution_count": 20,
   "id": "f7e8fd24",
   "metadata": {},
   "outputs": [
    {
     "name": "stdout",
     "output_type": "stream",
     "text": [
      "Please enter the test speed (mph).\n",
      "50\n",
      "Please enter the tested stopping distance\n",
      "39.7\n",
      "Your car failed the braking distance test.\n"
     ]
    }
   ],
   "source": [
    "print(\"Please enter the test speed (mph).\")\n",
    "speed=int(input())\n",
    "print(\"Please enter the tested stopping distance\")\n",
    "stdist=float(input())\n",
    "if (speed== 30 and stdist <= 14):\n",
    "    print(\"Your car passed the braking distance test\")\n",
    "elif (speed == 50 and stdist <=38):\n",
    "    print(\"Your car passed the braking distance test\")\n",
    "else :\n",
    "    print(\"Your car failed the braking distance test.\")\n"
   ]
  },
  {
   "cell_type": "markdown",
   "id": "b9777234",
   "metadata": {},
   "source": [
    "## CHARITY COLLECTION [part 2]"
   ]
  },
  {
   "cell_type": "code",
   "execution_count": 28,
   "id": "0d552972",
   "metadata": {},
   "outputs": [
    {
     "name": "stdout",
     "output_type": "stream",
     "text": [
      "Please enter the first amount raised.\n",
      "740\n",
      "Please enter the second amount raised.\n",
      "690\n",
      "Please enter the third amount raised.\n",
      "1024\n",
      "A total of 2454 was raised.\n",
      "With the company bonus, this is 4454\n",
      "\n"
     ]
    }
   ],
   "source": [
    "print(\"Please enter the first amount raised.\")\n",
    "famnt=int(input())\n",
    "print(\"Please enter the second amount raised.\")\n",
    "samnt=int(input())\n",
    "print(\"Please enter the third amount raised.\")\n",
    "tamnt=int(input())\n",
    "total=famnt+samnt+tamnt\n",
    "if total <1000:\n",
    "    newtotal=total+100\n",
    "elif total>= 1000 and total <=2000:\n",
    "    newtotal=2*total\n",
    "elif total >2000:\n",
    "    newtotal= (2*2000)+(total-2000)\n",
    "else:\n",
    "    pass\n",
    "print(\"A total of\",total,\"was raised.\")\n",
    "print(\"With the company bonus, this is\",newtotal)\n",
    "\n",
    "print()"
   ]
  },
  {
   "cell_type": "markdown",
   "id": "70b5a08b",
   "metadata": {},
   "source": [
    "## LINES CHEAT"
   ]
  },
  {
   "cell_type": "code",
   "execution_count": 1,
   "id": "aea3f736",
   "metadata": {},
   "outputs": [
    {
     "name": "stdout",
     "output_type": "stream",
     "text": [
      "Which sentence would you like copied?\n",
      "Don't behave like a muppet in class.\n",
      "Don't behave like a muppet in class.\n",
      "Don't behave like a muppet in class.\n",
      "Don't behave like a muppet in class.\n",
      "Don't behave like a muppet in class.\n",
      "Don't behave like a muppet in class.\n",
      "Don't behave like a muppet in class.\n",
      "Don't behave like a muppet in class.\n",
      "Don't behave like a muppet in class.\n",
      "Don't behave like a muppet in class.\n",
      "Don't behave like a muppet in class.\n",
      "Don't behave like a muppet in class.\n",
      "Don't behave like a muppet in class.\n",
      "Don't behave like a muppet in class.\n",
      "Don't behave like a muppet in class.\n",
      "Don't behave like a muppet in class.\n",
      "Don't behave like a muppet in class.\n",
      "Don't behave like a muppet in class.\n",
      "Don't behave like a muppet in class.\n",
      "Don't behave like a muppet in class.\n",
      "Don't behave like a muppet in class.\n"
     ]
    }
   ],
   "source": [
    "print(\"Which sentence would you like copied?\")\n",
    "sent=input()\n",
    "for counter in range (20):\n",
    "    print(sent)"
   ]
  },
  {
   "cell_type": "markdown",
   "id": "7c34c38f",
   "metadata": {},
   "source": [
    "## CHARITY COLLECTION [part 3]"
   ]
  },
  {
   "cell_type": "code",
   "execution_count": 19,
   "id": "0ee5f90f",
   "metadata": {},
   "outputs": [
    {
     "name": "stdout",
     "output_type": "stream",
     "text": [
      "Please enter the first amount to be raised.\n",
      "398\n",
      "Please enter the second amount to be raised.\n",
      "193\n",
      "Please enter the third amount to be raised.\n",
      "478\n",
      "A total of  1069 was raised.\n",
      "This will be doubled to:\n",
      "2138!!!\n",
      "2138!!!\n",
      "2138!!!\n"
     ]
    }
   ],
   "source": [
    "print(\"Please enter the first amount to be raised.\")\n",
    "fst=int(input())\n",
    "print(\"Please enter the second amount to be raised.\")\n",
    "sec=int(input())\n",
    "print(\"Please enter the third amount to be raised.\")\n",
    "thd=int(input())\n",
    "total=fst+sec+thd\n",
    "\n",
    "if total <1000:\n",
    "    newtotal=total+100\n",
    "elif total>= 1000 and total <=2000:\n",
    "    newtotal=2*total\n",
    "elif total >2000:\n",
    "    newtotal= (2*2000)+(total-2000)\n",
    "else:\n",
    "    pass\n",
    "\n",
    "print(\"A total of \",total,\"was raised.\")\n",
    "print(\"This will be doubled to:\")\n",
    "for loop in range(3):\n",
    "    print(str(newtotal)+\"!!!\")"
   ]
  },
  {
   "cell_type": "markdown",
   "id": "809ae7b7",
   "metadata": {},
   "source": [
    "## NAME SWITCH"
   ]
  },
  {
   "cell_type": "code",
   "execution_count": 1,
   "id": "4257e152",
   "metadata": {},
   "outputs": [
    {
     "name": "stdout",
     "output_type": "stream",
     "text": [
      "Please enter your forename\n",
      "Matt\n",
      "Please enter your surname\n",
      "Reid\n",
      "M R MATT reid MattReid\n",
      "MattReid REID matt r m\n",
      "M R MATT reid MattReid\n",
      "MattReid REID matt r m\n",
      "M R MATT reid MattReid\n",
      "MattReid REID matt r m\n"
     ]
    }
   ],
   "source": [
    "print(\"Please enter your forename\")\n",
    "fname=input()\n",
    "print(\"Please enter your surname\")\n",
    "sname=input()\n",
    "for loop in range(3):\n",
    "    print (fname[:1], sname[:1],fname.upper(),sname.lower(), fname+sname)\n",
    "    print( fname+sname,sname.upper(),fname.lower(), sname.lower()[:1], fname.lower()[:1] )\n",
    "\n"
   ]
  },
  {
   "cell_type": "markdown",
   "id": "a2f02aba",
   "metadata": {},
   "source": [
    "## CRICKET SCORE"
   ]
  },
  {
   "cell_type": "code",
   "execution_count": 6,
   "id": "5856c29a",
   "metadata": {},
   "outputs": [
    {
     "name": "stdout",
     "output_type": "stream",
     "text": [
      "0\n",
      "2\n",
      "0\n",
      "0\n",
      "4\n",
      "6\n",
      "This over's score was: 12\n"
     ]
    }
   ],
   "source": [
    "total=0\n",
    "for loop in range(6):\n",
    "    sc=int(input())\n",
    "    total=total+sc\n",
    "print(\"This over's score was:\",total)"
   ]
  },
  {
   "cell_type": "markdown",
   "id": "bdd7a3d1",
   "metadata": {},
   "source": [
    "## AVERAGE TEMPERATURE"
   ]
  },
  {
   "cell_type": "code",
   "execution_count": 10,
   "id": "7524fcfa",
   "metadata": {},
   "outputs": [
    {
     "name": "stdout",
     "output_type": "stream",
     "text": [
      "please enter the seven temperatures.\n",
      "7\n",
      "6\n",
      "7\n",
      "12\n",
      "14\n",
      "11\n",
      "11\n",
      "This week's average was:\n",
      " 9.71 degrees centigrade\n"
     ]
    }
   ],
   "source": [
    "print(\"please enter the seven temperatures.\")\n",
    "temp=0\n",
    "for counter in range(7):\n",
    "    ftemp=int(input())\n",
    "    temp=ftemp + temp\n",
    "    avg=temp/7\n",
    "print(\"This week's average was:\\n\",round(avg,2),\"degrees centigrade\")\n"
   ]
  },
  {
   "cell_type": "markdown",
   "id": "baaf3727",
   "metadata": {},
   "source": [
    "## LINES CHEAT [part 2]"
   ]
  },
  {
   "cell_type": "code",
   "execution_count": 11,
   "id": "66f0f26a",
   "metadata": {},
   "outputs": [
    {
     "name": "stdout",
     "output_type": "stream",
     "text": [
      "Which sentence would you like copied?\n",
      "Mr Reid is the best teacher.\n",
      "How many times would you like this copied?\n",
      "54\n",
      "Mr Reid is the best teacher.\n",
      "Mr Reid is the best teacher.\n",
      "Mr Reid is the best teacher.\n",
      "Mr Reid is the best teacher.\n",
      "Mr Reid is the best teacher.\n",
      "Mr Reid is the best teacher.\n",
      "Mr Reid is the best teacher.\n",
      "Mr Reid is the best teacher.\n",
      "Mr Reid is the best teacher.\n",
      "Mr Reid is the best teacher.\n",
      "Mr Reid is the best teacher.\n",
      "Mr Reid is the best teacher.\n",
      "Mr Reid is the best teacher.\n",
      "Mr Reid is the best teacher.\n",
      "Mr Reid is the best teacher.\n",
      "Mr Reid is the best teacher.\n",
      "Mr Reid is the best teacher.\n",
      "Mr Reid is the best teacher.\n",
      "Mr Reid is the best teacher.\n",
      "Mr Reid is the best teacher.\n",
      "Mr Reid is the best teacher.\n",
      "Mr Reid is the best teacher.\n",
      "Mr Reid is the best teacher.\n",
      "Mr Reid is the best teacher.\n",
      "Mr Reid is the best teacher.\n",
      "Mr Reid is the best teacher.\n",
      "Mr Reid is the best teacher.\n",
      "Mr Reid is the best teacher.\n",
      "Mr Reid is the best teacher.\n",
      "Mr Reid is the best teacher.\n",
      "Mr Reid is the best teacher.\n",
      "Mr Reid is the best teacher.\n",
      "Mr Reid is the best teacher.\n",
      "Mr Reid is the best teacher.\n",
      "Mr Reid is the best teacher.\n",
      "Mr Reid is the best teacher.\n",
      "Mr Reid is the best teacher.\n",
      "Mr Reid is the best teacher.\n",
      "Mr Reid is the best teacher.\n",
      "Mr Reid is the best teacher.\n",
      "Mr Reid is the best teacher.\n",
      "Mr Reid is the best teacher.\n",
      "Mr Reid is the best teacher.\n",
      "Mr Reid is the best teacher.\n",
      "Mr Reid is the best teacher.\n",
      "Mr Reid is the best teacher.\n",
      "Mr Reid is the best teacher.\n",
      "Mr Reid is the best teacher.\n",
      "Mr Reid is the best teacher.\n",
      "Mr Reid is the best teacher.\n",
      "Mr Reid is the best teacher.\n",
      "Mr Reid is the best teacher.\n",
      "Mr Reid is the best teacher.\n",
      "Mr Reid is the best teacher.\n"
     ]
    }
   ],
   "source": [
    "print(\"Which sentence would you like copied?\")\n",
    "sent=input()\n",
    "print(\"How many times would you like this copied?\")\n",
    "repeat=int(input())\n",
    "for loop in range(repeat):\n",
    "    print(sent)"
   ]
  },
  {
   "cell_type": "markdown",
   "id": "2ee8f7d2",
   "metadata": {},
   "source": [
    "## CHARITY COLLECTION [part 4]"
   ]
  },
  {
   "cell_type": "code",
   "execution_count": 21,
   "id": "715e9a9a",
   "metadata": {},
   "outputs": [
    {
     "name": "stdout",
     "output_type": "stream",
     "text": [
      "How many charity raisers were there?\n",
      "6\n",
      "Enter the total raised by each\n",
      "238\n",
      "624\n",
      "546\n",
      "333\n",
      "651\n",
      "174\n",
      "A total of  2566 was raised.\n",
      "This will be increased to:\n",
      "5132!!!\n",
      "5132!!!\n",
      "5132!!!\n"
     ]
    }
   ],
   "source": [
    "print(\"How many charity raisers were there?\")\n",
    "num=int(input())\n",
    "print(\"Enter the total raised by each\")\n",
    "\n",
    "total=0\n",
    "\n",
    "for loop in range(num):\n",
    "    amnt=int(input())\n",
    "    total=amnt+total \n",
    "    \n",
    "    if total <1000:\n",
    "        newtotal=total+100\n",
    "    elif total>= 1000 and total <=2000:\n",
    "        newtotal=2*total\n",
    "    elif total >2000:\n",
    "        newtotal= (2*2000)+(total-2000)\n",
    "    else:\n",
    "        pass\n",
    "\n",
    "\n",
    "    \n",
    "print(\"A total of \",total,\"was raised.\")\n",
    "print(\"This will be increased to:\")\n",
    "for i in range(3):    \n",
    "    print(str(2*total)+\"!!!\")"
   ]
  },
  {
   "cell_type": "markdown",
   "id": "b0ab3778",
   "metadata": {},
   "source": [
    "## PRESS UP CHALLENGE"
   ]
  },
  {
   "cell_type": "code",
   "execution_count": 22,
   "id": "b1542504",
   "metadata": {},
   "outputs": [
    {
     "name": "stdout",
     "output_type": "stream",
     "text": [
      "Please enter the number of students\n",
      "3\n",
      "Enter the time in seconds for each student\n",
      "student 1\n",
      "82\n",
      "student 2\n",
      "67\n",
      "student 3\n",
      "45\n",
      "The average time for 3 students was: 64.67 seconds\n"
     ]
    }
   ],
   "source": [
    "print(\"Please enter the number of students\")\n",
    "num=int(input())\n",
    "print(\"Enter the time in seconds for each student\")\n",
    "total=0\n",
    "for loop in range (num):\n",
    "    print(\"student\",loop+1)\n",
    "    time=int(input())\n",
    "    total=total+time\n",
    "    avg=total/num\n",
    "print(\"The average time for\",num,\"students was:\",round(avg,2),\"seconds\")\n",
    "for loop in range(1,12,2):\n",
    "    print(loop)\n"
   ]
  },
  {
   "cell_type": "markdown",
   "id": "80ef8198",
   "metadata": {},
   "source": [
    "## NUMBER PATTERNS"
   ]
  },
  {
   "cell_type": "code",
   "execution_count": 24,
   "id": "a0e906f0",
   "metadata": {},
   "outputs": [
    {
     "name": "stdout",
     "output_type": "stream",
     "text": [
      "Odd numbers list\n",
      "1\n",
      "3\n",
      "5\n",
      "7\n",
      "9\n",
      "11\n"
     ]
    }
   ],
   "source": [
    "print(\"Odd numbers list\")\n",
    "for loop in range(1,12,2):\n",
    "    print(loop)"
   ]
  },
  {
   "cell_type": "markdown",
   "id": "f936c4ea",
   "metadata": {},
   "source": [
    "## NUMBER PATTERN [part 2]"
   ]
  },
  {
   "cell_type": "code",
   "execution_count": 26,
   "id": "cb5c764d",
   "metadata": {},
   "outputs": [
    {
     "name": "stdout",
     "output_type": "stream",
     "text": [
      "The following programme will display odd numbers\n",
      "Enter the first number in the list\n",
      "5\n",
      "Enter the last number in the list\n",
      "13\n",
      "Odd numbers list\n",
      "5\n",
      "7\n",
      "9\n",
      "11\n",
      "13\n"
     ]
    }
   ],
   "source": [
    "print(\"The following programme will display odd numbers\")\n",
    "print(\"Enter the first number in the list\")\n",
    "first=int(input())\n",
    "print(\"Enter the last number in the list\")\n",
    "second=int(input())\n",
    "print(\"Odd numbers list\")\n",
    "for loop in range(first,second+1,2):\n",
    "    print(loop)\n"
   ]
  },
  {
   "cell_type": "markdown",
   "id": "90ada9b9",
   "metadata": {},
   "source": [
    "## PASSWORD"
   ]
  },
  {
   "cell_type": "code",
   "execution_count": 28,
   "id": "cb366a11",
   "metadata": {},
   "outputs": [
    {
     "name": "stdout",
     "output_type": "stream",
     "text": [
      "Please enter the password\n",
      "snool\n",
      "Sorry, incorrect ! Try again.\n",
      "ornery\n",
      "Entry gained!\n"
     ]
    }
   ],
   "source": [
    "print(\"Please enter the password\")\n",
    "pw=input()\n",
    "while not pw==\"ornery\":\n",
    "    print(\"Sorry, incorrect ! Try again.\")\n",
    "    pw=input()\n",
    "else:\n",
    "    print(\"Entry gained!\")\n"
   ]
  },
  {
   "cell_type": "markdown",
   "id": "806ea69d",
   "metadata": {},
   "source": [
    "## NUMBER PATTERN [part 3]"
   ]
  },
  {
   "cell_type": "code",
   "execution_count": 33,
   "id": "873179a0",
   "metadata": {},
   "outputs": [
    {
     "name": "stdout",
     "output_type": "stream",
     "text": [
      "The following programme will display odd numbers\n",
      "Enter the first number in the list\n",
      "5\n",
      "Enter the last number in the list\n",
      "17\n",
      "Sorry, the number must be atleast 5+20\n",
      "Please re-enter the number\n",
      "27\n",
      "Odd numbers list\n",
      "5\n",
      "7\n",
      "9\n",
      "11\n",
      "13\n",
      "15\n",
      "17\n",
      "19\n",
      "21\n",
      "23\n",
      "25\n"
     ]
    }
   ],
   "source": [
    "print(\"The following programme will display odd numbers\")\n",
    "print(\"Enter the first number in the list\")\n",
    "first=int(input())\n",
    "print(\"Enter the last number in the list\")\n",
    "second=int(input())\n",
    "while not second >= first+20 :\n",
    "    print(\"Sorry, the number must be atleast\",str(first)+\"+20\")\n",
    "    print(\"Please re-enter the number\")\n",
    "    second=int(input())\n",
    "    print(\"Odd numbers list\")\n",
    "    for loop in range(first,second,2):\n",
    "        print(loop)\n",
    "        "
   ]
  },
  {
   "cell_type": "markdown",
   "id": "398c7d1e",
   "metadata": {},
   "source": [
    "## ADVICE PLEASE [part 3]"
   ]
  },
  {
   "cell_type": "code",
   "execution_count": 17,
   "id": "2b002e9f",
   "metadata": {},
   "outputs": [
    {
     "name": "stdout",
     "output_type": "stream",
     "text": [
      "Would youlike some advice?\n",
      "f\n"
     ]
    }
   ],
   "source": [
    "print(\"Would youlike some advice?\")\n",
    "ad=input()\n"
   ]
  },
  {
   "cell_type": "markdown",
   "id": "b30f3183",
   "metadata": {},
   "source": [
    "## NO MORE PRESENTS\n"
   ]
  },
  {
   "cell_type": "code",
   "execution_count": 23,
   "id": "97345ed9",
   "metadata": {},
   "outputs": [
    {
     "name": "stdout",
     "output_type": "stream",
     "text": [
      "Please enter the price of each present:\n",
      "35\n",
      "100\n",
      "50\n",
      "45\n",
      "limit exceeded\n",
      "You can't include the 45 present\n"
     ]
    }
   ],
   "source": [
    "print(\"Please enter the price of each present:\")\n",
    "total=0\n",
    "while not total>=200:\n",
    "    price=int(input())\n",
    "    total=total+price\n",
    "print(\"limit exceeded\")\n",
    "print(\"You can't include the\",price,\"present\")"
   ]
  },
  {
   "cell_type": "markdown",
   "id": "263adff1",
   "metadata": {},
   "source": [
    "## MENU SYSTEM"
   ]
  },
  {
   "cell_type": "code",
   "execution_count": 32,
   "id": "f59627ac",
   "metadata": {},
   "outputs": [
    {
     "name": "stdout",
     "output_type": "stream",
     "text": [
      "Enter your menu choice(Q, A, K, or L)\n",
      "a\n",
      "A selected\n",
      "v\n",
      "Enter your menu choice(Q, A, K, or L)\n"
     ]
    }
   ],
   "source": [
    "print(\"Enter your menu choice(Q, A, K, or L)\")\n",
    "choice=input()\n",
    "choice1=choice.upper()\n",
    "while choice1==\"A\" or choice1==\"Q\" or choice1==\"K\" or choice1==\"L\":\n",
    "    print(choice1 ,\"selected\")\n",
    "    choice=input()\n",
    "    choice1=choice.upper()\n",
    "    print(\"Enter your menu choice(Q, A, K, or L)\")"
   ]
  },
  {
   "cell_type": "markdown",
   "id": "3e5be6f7",
   "metadata": {},
   "source": [
    "## GUESS THE NUMBER"
   ]
  },
  {
   "cell_type": "code",
   "execution_count": 1,
   "id": "2281337c",
   "metadata": {},
   "outputs": [
    {
     "name": "stdout",
     "output_type": "stream",
     "text": [
      "Guess the hidden number between 1 and 100\n",
      "99\n",
      "Your guess was too high. Try again\n",
      "112\n",
      "Your guess was not valid. Enter it again.\n",
      "45\n",
      "Your guess was too low. Try again\n",
      "52\n",
      "Your guess is correct.\n"
     ]
    }
   ],
   "source": [
    "print(\"Guess the hidden number between 1 and 100\")\n",
    "num=int(input())\n",
    "a=52\n",
    "while True:\n",
    "    if num ==52 :\n",
    "              print(\"Your guess is correct.\")\n",
    "              break\n",
    "    elif num<52 and num<100 :\n",
    "        print(\"Your guess was too low. Try again\")\n",
    "        num=int(input())\n",
    "    elif num>52 and num<100 :\n",
    "         print(\"Your guess was too high. Try again\")\n",
    "         num=int(input())\n",
    "    else:\n",
    "         print(\"Your guess was not valid. Enter it again.\")\n",
    "         num=int(input())"
   ]
  },
  {
   "cell_type": "markdown",
   "id": "640e5004",
   "metadata": {},
   "source": [
    "## AVERAGE TEMPERATURE [part 2]"
   ]
  },
  {
   "cell_type": "code",
   "execution_count": 26,
   "id": "67e8b6e7",
   "metadata": {},
   "outputs": [
    {
     "name": "stdout",
     "output_type": "stream",
     "text": [
      "please enter the seven temperatures.\n",
      "12\n",
      "14\n",
      "7\n",
      "6\n",
      "7\n",
      "6\n",
      "66\n",
      "Temperature should be between -40 and 55\n",
      "7\n",
      "Week 1 average was:\n",
      "8.43 degrees centigrade\n",
      "11\n",
      "11\n",
      "7\n",
      "6\n",
      "8\n",
      "9\n",
      "7\n",
      "Week 2 average was:\n",
      "8.43 degrees centigrade\n",
      "10\n",
      "10\n",
      "9\n",
      "6\n",
      "6\n",
      "8\n",
      "8\n",
      "Week 3 average was:\n",
      "8.14 degrees centigrade\n",
      "11\n",
      "11\n",
      "10\n",
      "8\n",
      "9\n",
      "3\n",
      "5\n",
      "Week 4 average was:\n",
      "8.14 degrees centigrade\n"
     ]
    }
   ],
   "source": [
    "print(\"please enter the seven temperatures.\")\n",
    "\n",
    "for i in range(4):\n",
    "    temp=0\n",
    "    for loop in range(7):\n",
    "            ftemp=int(input())\n",
    "            if (ftemp <= -40 or ftemp>=55 ):\n",
    "                print(\"Temperature should be between -40 and 55\")\n",
    "                ftemp=int(input())\n",
    "            temp=ftemp + temp\n",
    "    avg=temp/7\n",
    "        \n",
    "    print(\"Week\",i+1,\"average was:\")\n",
    "    print(round(avg,2),\"degrees centigrade\")\n",
    "    "
   ]
  },
  {
   "cell_type": "markdown",
   "id": "ecda2e58",
   "metadata": {},
   "source": [
    "## PAILWATER DARTS TOURNAMENT"
   ]
  },
  {
   "cell_type": "code",
   "execution_count": 33,
   "id": "01a71b2b",
   "metadata": {},
   "outputs": [
    {
     "name": "stdout",
     "output_type": "stream",
     "text": [
      "Please enter the scores for player 0\n",
      "34\n",
      "26\n",
      "200\n",
      "Invalid score\n",
      "100\n",
      "Please enter the scores for player 1\n",
      "78\n",
      "80\n",
      "97\n"
     ]
    }
   ],
   "source": [
    "for loop in range(2):\n",
    "    print(\"Please enter the scores for player\",loop)\n",
    "    for i in range (3):\n",
    "        sc=int(input())\n",
    "        if sc<0 or sc>100:\n",
    "            print(\"Invalid score\")\n",
    "            sc=int(input())\n",
    " \n"
   ]
  },
  {
   "cell_type": "markdown",
   "id": "e234e2ff",
   "metadata": {},
   "source": [
    "## FOR SALE"
   ]
  },
  {
   "cell_type": "code",
   "execution_count": 39,
   "id": "936cfd18",
   "metadata": {},
   "outputs": [
    {
     "name": "stdout",
     "output_type": "stream",
     "text": [
      "Mountain Bike\n",
      "Ski Jacket\n",
      "Electric Guitar\n",
      "PS3 - 500Gb\n",
      "Badminton Racquet\n"
     ]
    }
   ],
   "source": [
    "items=['Mountain Bike','Ski Jacket','Electric Guitar','PS3 - 500Gb','Badminton Racquet']\n",
    "for i in range (5):\n",
    "    print(items[i])"
   ]
  },
  {
   "cell_type": "markdown",
   "id": "d1768801",
   "metadata": {},
   "source": [
    "## FOR SALE [part 2]"
   ]
  },
  {
   "cell_type": "code",
   "execution_count": 41,
   "id": "42341814",
   "metadata": {},
   "outputs": [
    {
     "name": "stdout",
     "output_type": "stream",
     "text": [
      "Mountain Bike - 200\n",
      "Ski Jacket - 67\n",
      "Electric Guitar - 330\n",
      "PS3-500Gb - 120\n",
      "Badminton Racquet - 15\n"
     ]
    }
   ],
   "source": [
    "items=['Mountain Bike','Ski Jacket','Electric Guitar','PS3-500Gb','Badminton Racquet']\n",
    "price=['200','67','330','120','15']\n",
    "for i in range (5):\n",
    "    print(items[i] ,\"-\",price[i])"
   ]
  },
  {
   "cell_type": "markdown",
   "id": "a58c0336",
   "metadata": {},
   "source": [
    "## CRICKET OVER [part 2]"
   ]
  },
  {
   "cell_type": "code",
   "execution_count": 62,
   "id": "4ada993d",
   "metadata": {},
   "outputs": [
    {
     "name": "stdout",
     "output_type": "stream",
     "text": [
      "0\n",
      "2\n",
      "0\n",
      "0\n",
      "4\n",
      "6\n",
      "This over's score was: 12\n",
      "0\n",
      "2\n",
      "0\n",
      "0\n",
      "4\n",
      "6\n"
     ]
    }
   ],
   "source": [
    "total=0\n",
    "scrlist=[]\n",
    "for i in range(6):\n",
    "    scr=int(input())\n",
    "    scrlist.append(scr)\n",
    "    total+=scr\n",
    "print(\"This over's score was:\",total)\n",
    "for i in range(6):\n",
    "    print(scrlist[i])"
   ]
  },
  {
   "cell_type": "markdown",
   "id": "ee584506",
   "metadata": {},
   "source": [
    "## DANCE GROUP"
   ]
  },
  {
   "cell_type": "code",
   "execution_count": 28,
   "id": "d8c7c6e2",
   "metadata": {},
   "outputs": [
    {
     "name": "stdout",
     "output_type": "stream",
     "text": [
      "Please enter a name:\n",
      "Jean Grey\n",
      "Please enter Jean Grey's  age\n",
      "13\n",
      "Please enter a name:\n",
      "Max Eisenhardt\n",
      "Please enter Max Eisenhardt's  age\n",
      "24\n",
      "Please enter a name:\n",
      "James Howlett\n",
      "Please enter James Howlett's  age\n",
      "15\n",
      "Please enter a name:\n",
      "Alesky Nowak\n",
      "Please enter Alesky Nowak's  age\n",
      "9\n",
      "Names and Competition List\n",
      "Jean Grey - junior\n",
      "Max Eisenhardt - Senior\n",
      "James Howlett - junior\n",
      "Alesky Nowak - Junior\n"
     ]
    }
   ],
   "source": [
    "nameli=[]\n",
    "ages=[]\n",
    "for i in range(4):\n",
    "    print(\"Please enter a name:\")\n",
    "    name=input()\n",
    "    nameli.append(name)\n",
    "    print(\"Please enter\",nameli[i]+\"'s \",\"age\")\n",
    "    age=int(input())\n",
    "    ages.append(age)\n",
    "    \n",
    "print(\"Names and Competition List\")\n",
    "for k in range(4): \n",
    "    if ages[k]<12:\n",
    "        level=\"Junior\"\n",
    "    elif ages[k]>18:\n",
    "        level=\"Senior\"\n",
    "    elif ages[k] > 12 and ages[k] <= 18:\n",
    "        level=\"junior\"\n",
    "    print(nameli[k],\"-\",  level)"
   ]
  },
  {
   "cell_type": "markdown",
   "id": "0a3dbae7",
   "metadata": {},
   "source": [
    "## HORSE HANDS"
   ]
  },
  {
   "cell_type": "code",
   "execution_count": 13,
   "id": "e8bedf5d",
   "metadata": {},
   "outputs": [
    {
     "name": "stdout",
     "output_type": "stream",
     "text": [
      "Please enter details of your horse.\n",
      "Maximum height:\n",
      "12\n",
      "Maximum age:\n",
      "13\n",
      "Bella 13 years 12 hands\n",
      "Alex 12 years 11 hands\n",
      "Fancy 11 years 12 hands\n",
      "Tucker 9 years 10 hands\n"
     ]
    }
   ],
   "source": [
    "horses=[\"Black beauty\",\"Francine\",\"Langrish\",\"Bella\",\"Alex\",\"Pegsus\",\"Alexia\", \"Fancy\",\"Sugar\",\"Tucker\"]\n",
    "heights=[15,14,14,12,11,16,10,12,14,10]\n",
    "age=[14,8,15,13,12,6,14,11,11,9]\n",
    "print(\"Please enter details of your horse.\")\n",
    "print(\"Maximum height:\")\n",
    "mh=int(input())\n",
    "print(\"Maximum age:\")\n",
    "ma=int(input())\n",
    "for i in range(10):\n",
    "    if mh >= heights[i] and ma >= age[i]:\n",
    "        print(horses[i],age[i],\"years\",heights[i],\"hands\")\n"
   ]
  },
  {
   "cell_type": "markdown",
   "id": "e12d8d55",
   "metadata": {},
   "source": [
    "## HOUSE  SIZE"
   ]
  },
  {
   "cell_type": "code",
   "execution_count": 8,
   "id": "medical-proof",
   "metadata": {},
   "outputs": [
    {
     "name": "stdout",
     "output_type": "stream",
     "text": [
      "House floor area calculator.\n",
      "please enter the number of rooms :\n",
      "3\n",
      "Please enter the name of room 1 :\n",
      "Lounge\n",
      "Please enter the length of room 1 :\n",
      "3.56\n",
      "Please enter the width of room: 1 :\n",
      "4.7\n",
      "Please enter the name of room 2 :\n",
      "Kitchen\n",
      "Please enter the length of room 2 :\n",
      "2.26\n",
      "Please enter the width of room: 2 :\n",
      "3.69\n",
      "Please enter the name of room 3 :\n",
      "Bedroom\n",
      "Please enter the length of room 3 :\n",
      "4.5\n",
      "Please enter the width of room: 3 :\n",
      "4.7\n",
      "House details:\n",
      "Room - Lounge\n",
      "16.732\n",
      "Room - Kitchen\n",
      "8.3394\n",
      "Room - Bedroom\n",
      "21.150000000000002\n",
      "The total area is calculated as: 46.2214 metres squared\n"
     ]
    }
   ],
   "source": [
    "print(\"House floor area calculator.\")\n",
    "print(\"please enter the number of rooms :\")\n",
    "rooms=int(input())\n",
    "area=[ ]\n",
    "name=[ ]\n",
    "total=0\n",
    "for i in range(rooms):\n",
    "    print(\"Please enter the name of room\",i+1,\":\")\n",
    "    n=input()\n",
    "    print(\"Please enter the length of room\",i+1,\":\")\n",
    "    l=float(input())\n",
    "    print(\"Please enter the width of room:\",i+1,\":\")\n",
    "    b=float(input())\n",
    "    a=l*b\n",
    "    total=total+a\n",
    "    area.append(a)\n",
    "    name.append(n)\n",
    "print(\"House details:\")\n",
    "for i in range(rooms):\n",
    "   print(\"Room -\",name[i])\n",
    "   print(area[i])\n",
    "print(\"The total area is calculated as:\",total,\"metres squared\")\n"
   ]
  },
  {
   "cell_type": "markdown",
   "id": "6c69da61",
   "metadata": {},
   "source": [
    "## WHO'S GOING TO THE PARTY?"
   ]
  },
  {
   "cell_type": "code",
   "execution_count": 1,
   "id": "6720ba67",
   "metadata": {},
   "outputs": [
    {
     "name": "stdout",
     "output_type": "stream",
     "text": [
      "Who's going?\n",
      "Melissa ?\n",
      "y\n",
      "Evelyn ?\n",
      "Y\n",
      "Emmy ?\n",
      "N\n",
      "Karen ?\n",
      "n\n",
      "Norma ?\n",
      "Y\n",
      "Dorek ?\n",
      "Y\n",
      "Agnes ?\n",
      "N\n",
      "Billy ?\n",
      "Y\n",
      "Gawet ?\n",
      "Y\n",
      "Arthur ?\n",
      "N\n",
      "Party Attendence List:\n",
      "Melissa\n",
      "Evelyn\n",
      "Norma\n",
      "Dorek\n",
      "Billy\n",
      "Gawet\n"
     ]
    }
   ],
   "source": [
    "print(\"Who's going?\")\n",
    "name=['Melissa','Evelyn','Emmy','Karen','Norma','Dorek','Agnes','Billy','Gawet','Arthur']\n",
    "attend=[ ]\n",
    "for k in range (10):\n",
    "    print(name[k],\"?\")\n",
    "    ans=input()\n",
    "    if ans==\"Y\" or ans==\"y\" :\n",
    "        attend.append(name[k])\n",
    "print(\"Party Attendence List:\")\n",
    "for k in range(len(attend)):\n",
    "    print(attend[k])"
   ]
  },
  {
   "cell_type": "markdown",
   "id": "united-spider",
   "metadata": {},
   "source": [
    "## BOWLING CLUB DAY TRIP"
   ]
  },
  {
   "cell_type": "code",
   "execution_count": 23,
   "id": "marine-couple",
   "metadata": {},
   "outputs": [
    {
     "ename": "SyntaxError",
     "evalue": "invalid syntax (3814843091.py, line 16)",
     "output_type": "error",
     "traceback": [
      "\u001b[0;36m  File \u001b[0;32m\"/tmp/ipykernel_6361/3814843091.py\"\u001b[0;36m, line \u001b[0;32m16\u001b[0m\n\u001b[0;31m    elif colum<0 or colum>3:\u001b[0m\n\u001b[0m    ^\u001b[0m\n\u001b[0;31mSyntaxError\u001b[0m\u001b[0;31m:\u001b[0m invalid syntax\n"
     ]
    }
   ],
   "source": [
    "print(\"How many members have requested a seat? \")\n",
    "num=int(input())\n",
    "\n",
    "seat=[[\"Empty\"]*4 for main in range (num)]\n",
    "for i in range (num):\n",
    "    for J in range (4):\n",
    "        print(\"Please enter your name.\")\n",
    "        name=input()\n",
    "        print(\"Which row would you like to sit in?\")\n",
    "        row=int(input())\n",
    "        if row<0 or row>4:\n",
    "            print(\"Row must be between 0 and 4\")\n",
    "            row=int(input())\n",
    "        print(\"Which seat number would you like to sit in?\")\n",
    "        colum=int(input())\n",
    "        elif colum<0 or colum>3:\n",
    "            print(\"seat must be between 0 and 3\")\n",
    "        seat[row][colum]=name\n",
    "    \n",
    "        print(\"Thank you, your name has been added.\")\n",
    "        print(seat[j][k])\n",
    " \n"
   ]
  },
  {
   "cell_type": "markdown",
   "id": "e4516a66",
   "metadata": {},
   "source": [
    "## COUNTING WEEDS"
   ]
  },
  {
   "cell_type": "code",
   "execution_count": 48,
   "id": "f84dda42",
   "metadata": {},
   "outputs": [
    {
     "name": "stdout",
     "output_type": "stream",
     "text": [
      "Please enter the number of weeds counted at 0 , 0 :\n",
      "3\n",
      "Please enter the number of weeds counted at 0 , 1 :\n",
      "3\n",
      "Please enter the number of weeds counted at 0 , 2 :\n",
      "3\n",
      "Please enter the number of weeds counted at 0 , 3 :\n",
      "3\n",
      "Please enter the number of weeds counted at 0 , 4 :\n",
      "\n"
     ]
    },
    {
     "ename": "ValueError",
     "evalue": "invalid literal for int() with base 10: ''",
     "output_type": "error",
     "traceback": [
      "\u001b[0;31m---------------------------------------------------------------------------\u001b[0m",
      "\u001b[0;31mValueError\u001b[0m                                Traceback (most recent call last)",
      "\u001b[0;32m/tmp/ipykernel_6361/3744800715.py\u001b[0m in \u001b[0;36m<module>\u001b[0;34m\u001b[0m\n\u001b[1;32m      4\u001b[0m     \u001b[0;32mfor\u001b[0m \u001b[0mk\u001b[0m \u001b[0;32min\u001b[0m \u001b[0mrange\u001b[0m\u001b[0;34m(\u001b[0m\u001b[0;36m5\u001b[0m\u001b[0;34m)\u001b[0m\u001b[0;34m:\u001b[0m\u001b[0;34m\u001b[0m\u001b[0;34m\u001b[0m\u001b[0m\n\u001b[1;32m      5\u001b[0m         \u001b[0mprint\u001b[0m\u001b[0;34m(\u001b[0m\u001b[0;34m\"Please enter the number of weeds counted at\"\u001b[0m\u001b[0;34m,\u001b[0m\u001b[0mj\u001b[0m\u001b[0;34m,\u001b[0m\u001b[0;34m\",\"\u001b[0m\u001b[0;34m,\u001b[0m\u001b[0mk\u001b[0m\u001b[0;34m,\u001b[0m\u001b[0;34m\":\"\u001b[0m\u001b[0;34m)\u001b[0m\u001b[0;34m\u001b[0m\u001b[0;34m\u001b[0m\u001b[0m\n\u001b[0;32m----> 6\u001b[0;31m         \u001b[0mweeds\u001b[0m\u001b[0;34m[\u001b[0m\u001b[0mj\u001b[0m\u001b[0;34m]\u001b[0m\u001b[0;34m[\u001b[0m\u001b[0mk\u001b[0m\u001b[0;34m]\u001b[0m\u001b[0;34m=\u001b[0m\u001b[0mint\u001b[0m\u001b[0;34m(\u001b[0m\u001b[0minput\u001b[0m\u001b[0;34m(\u001b[0m\u001b[0;34m)\u001b[0m\u001b[0;34m)\u001b[0m\u001b[0;34m\u001b[0m\u001b[0;34m\u001b[0m\u001b[0m\n\u001b[0m\u001b[1;32m      7\u001b[0m         \u001b[0mweeds\u001b[0m\u001b[0;34m.\u001b[0m\u001b[0mappend\u001b[0m\u001b[0;34m(\u001b[0m\u001b[0mweeds\u001b[0m\u001b[0;34m[\u001b[0m\u001b[0mj\u001b[0m\u001b[0;34m]\u001b[0m\u001b[0;34m[\u001b[0m\u001b[0mk\u001b[0m\u001b[0;34m]\u001b[0m\u001b[0;34m)\u001b[0m\u001b[0;34m\u001b[0m\u001b[0;34m\u001b[0m\u001b[0m\n\u001b[1;32m      8\u001b[0m         \u001b[0mtotal\u001b[0m\u001b[0;34m=\u001b[0m\u001b[0mtotal\u001b[0m\u001b[0;34m+\u001b[0m\u001b[0mweeds\u001b[0m\u001b[0;34m[\u001b[0m\u001b[0mj\u001b[0m\u001b[0;34m]\u001b[0m\u001b[0;34m[\u001b[0m\u001b[0mk\u001b[0m\u001b[0;34m]\u001b[0m\u001b[0;34m\u001b[0m\u001b[0;34m\u001b[0m\u001b[0m\n",
      "\u001b[0;31mValueError\u001b[0m: invalid literal for int() with base 10: ''"
     ]
    }
   ],
   "source": [
    "weeds=[[0]*5 for main in range(5)]\n",
    "total=0\n",
    "for j in range(5):\n",
    "    for k in range(5):\n",
    "        print(\"Please enter the number of weeds counted at\",j,\",\",k,\":\")\n",
    "        weeds[j][k]=int(input())\n",
    "        weeds.append(weeds[j][k])\n",
    "        total=total+weeds[j][k]\n",
    "for i in range(6):\n",
    "        print(weeds[i])\n",
    "print(total)\n",
    "\n",
    "\n"
   ]
  },
  {
   "cell_type": "markdown",
   "id": "bfb44716",
   "metadata": {},
   "source": [
    "## CRICKET OVER [Part 3]"
   ]
  },
  {
   "cell_type": "code",
   "execution_count": 1,
   "id": "c669dc03",
   "metadata": {},
   "outputs": [
    {
     "name": "stdout",
     "output_type": "stream",
     "text": [
      "Do you wish to calculate result of a match?\n",
      "y\n",
      "Please enter over 1 team 1\n",
      "2\n",
      "1\n",
      "1\n",
      "1\n",
      "4\n",
      "6\n",
      "Please enter over 2 team 1\n",
      "0\n",
      "6\n",
      "6\n",
      "2\n",
      "1\n",
      "4\n",
      "Please enter over 3 team 1\n",
      "4\n",
      "4\n",
      "1\n",
      "4\n",
      "6\n",
      "0\n",
      "Please enter over 1 team 2\n",
      "1\n",
      "1\n",
      "4\n",
      "4\n",
      "4\n",
      "2\n",
      "Please enter over 2 team 2\n",
      "1\n",
      "0\n",
      "0\n",
      "1\n",
      "4\n",
      "4\n",
      "Please enter over 3 team 2\n",
      "6\n",
      "1\n",
      "2\n",
      "1\n",
      "4\n",
      "0\n",
      "Score for team 1's three overs:\n",
      "53\n",
      "Score for team 2's three overs:\n",
      "40\n",
      "Team 1 won the game\n",
      "Do you wish to calculate result of another game?\n",
      "n\n"
     ]
    }
   ],
   "source": [
    "score1=[[0]*6 for main in range(3)]\n",
    "score2=[[0]*6 for main in range(3)]\n",
    "print(\"Do you wish to calculate result of a match?\")\n",
    "match=input()\n",
    "while match==\"Y\" or match==\"y\":\n",
    "    team1score=0\n",
    "    team2score=0\n",
    "    \n",
    "    for over in range (3):\n",
    "        print(\"Please enter over\",str(over+1),\"team 1\")\n",
    "        for ball in range(6):\n",
    "            score1[over][ball]=int(input())\n",
    "            team1score=team1score+score1[over][ball]\n",
    "    for over in range (3):\n",
    "        print(\"Please enter over\",str(over+1),\"team 2\")\n",
    "        for ball in range(6):\n",
    "            score2[over][ball]=int(input())\n",
    "            team2score=team2score+score2[over][ball]\n",
    "    print(\"Score for team 1's three overs:\")\n",
    "    print(team1score)\n",
    "    print(\"Score for team 2's three overs:\")\n",
    "    print(team2score)\n",
    "    if team1score>=team2score:\n",
    "        print(\"Team 1 won the game\")\n",
    "    else:\n",
    "        print(\"Team 2 won the game\")\n",
    "    print(\"Do you wish to calculate result of another game?\")\n",
    "    match=input()"
   ]
  },
  {
   "cell_type": "markdown",
   "id": "5e9caebe",
   "metadata": {},
   "source": [
    "## GUESS THE NUMBER [ Part 2 ]"
   ]
  },
  {
   "cell_type": "code",
   "execution_count": 29,
   "id": "541daf89",
   "metadata": {},
   "outputs": [
    {
     "name": "stdout",
     "output_type": "stream",
     "text": [
      "Guess the hidden number between 1 and 100\n",
      "52\n",
      "Your guess was too low. Try again\n",
      "112\n",
      "Your guess was not valid. Enter it again.\n",
      "67\n",
      "Your guess was too high. Try again\n",
      "60\n",
      "Your guess was too high. Try again\n",
      "55\n",
      "Your guess was too low. Try again\n",
      "56\n",
      "Your guess is correct. well done!\n"
     ]
    }
   ],
   "source": [
    "import random\n",
    "\n",
    "print(\"Guess the hidden number between 1 and 100\")\n",
    "num=int(input())\n",
    "a=random.randint(1,100)\n",
    "while True:\n",
    "    if num ==a :\n",
    "              print(\"Your guess is correct. well done!\")\n",
    "              break\n",
    "    elif num > 0 and num < a :\n",
    "        print(\"Your guess was too low. Try again\")\n",
    "        num=int(input())\n",
    "    elif num>a and num<100 :\n",
    "         print(\"Your guess was too high. Try again\")\n",
    "         num=int(input())\n",
    "    else:\n",
    "         print(\"Your guess was not valid. Enter it again.\")\n",
    "         num=int(input())"
   ]
  },
  {
   "cell_type": "markdown",
   "id": "dea08800",
   "metadata": {},
   "source": [
    "## COMIC COLLECTOR"
   ]
  },
  {
   "cell_type": "code",
   "execution_count": 44,
   "id": "ad1a70ce",
   "metadata": {},
   "outputs": [
    {
     "name": "stdout",
     "output_type": "stream",
     "text": [
      "Please enter the donated comics:\n",
      "12,34,56,3\n",
      "Liam now own issues:\n",
      "[1, 2, 3, 7, 8, 9, 10, 16, 12, 34, 56, 3]\n"
     ]
    }
   ],
   "source": [
    "owns=[1,2,3,7,8,9,10,16]\n",
    "print(\"Please enter the donated comics:\")\n",
    "donated=[int(i) for i in input().split(\",\")]\n",
    "owns.extend(donated)\n",
    "print(\"Liam now own issues:\")\n",
    "print(owns)"
   ]
  },
  {
   "cell_type": "markdown",
   "id": "916ff56d",
   "metadata": {},
   "source": [
    "## DRESS SIZE"
   ]
  },
  {
   "cell_type": "code",
   "execution_count": 45,
   "id": "bf3977b6",
   "metadata": {},
   "outputs": [
    {
     "name": "stdout",
     "output_type": "stream",
     "text": [
      "Do you wish to add (A) or remove(R) a dress?\n",
      "a\n",
      "Please enter a new dress size:\n",
      "12\n",
      "stock= [12]\n",
      "Do you wish to add (A) or remove(R) a dress?\n",
      "A\n",
      "Please enter a new dress size:\n",
      "14\n",
      "stock= [12, 14]\n",
      "Do you wish to add (A) or remove(R) a dress?\n",
      "r\n",
      "Please enter a new dress size:\n",
      "14\n",
      "stock= [12]\n",
      "Do you wish to add (A) or remove(R) a dress?\n",
      "A\n",
      "Please enter a new dress size:\n",
      "10\n",
      "stock= [12, 10]\n",
      "Do you wish to add (A) or remove(R) a dress?\n",
      "A\n",
      "Please enter a new dress size:\n",
      "8\n",
      "stock= [12, 10, 8]\n",
      "Do you wish to add (A) or remove(R) a dress?\n",
      "A\n",
      "Please enter a new dress size:\n",
      "10\n",
      "stock= [12, 10, 8, 10]\n",
      "Do you wish to add (A) or remove(R) a dress?\n",
      "A\n",
      "Please enter a new dress size:\n",
      "12\n",
      "stock= [12, 10, 8, 10, 12]\n",
      "Do you wish to add (A) or remove(R) a dress?\n",
      "A\n",
      "Please enter a new dress size:\n",
      "14\n",
      "stock= [12, 10, 8, 10, 12, 14]\n",
      "Do you wish to add (A) or remove(R) a dress?\n",
      "A\n",
      "Please enter a new dress size:\n",
      "16\n",
      "stock= [12, 10, 8, 10, 12, 14, 16]\n",
      "Do you wish to add (A) or remove(R) a dress?\n",
      "A20\n",
      "Do you wish to add (A) or remove(R) a dress?\n",
      "A\n",
      "Please enter a new dress size:\n",
      "20\n",
      "stock= [12, 10, 8, 10, 12, 14, 16, 20]\n",
      "Do you wish to add (A) or remove(R) a dress?\n",
      "A\n",
      "Please enter a new dress size:\n",
      "12\n",
      "stock= [12, 10, 8, 10, 12, 14, 16, 20, 12]\n",
      "Do you wish to add (A) or remove(R) a dress?\n",
      "a\n",
      "Please enter a new dress size:\n",
      "12\n",
      "stock= [12, 10, 8, 10, 12, 14, 16, 20, 12, 12]\n",
      "Do you wish to add (A) or remove(R) a dress?\n",
      "a\n",
      "Please enter a new dress size:\n",
      "8\n",
      "stock= [12, 10, 8, 10, 12, 14, 16, 20, 12, 12, 8]\n",
      "Do you wish to add (A) or remove(R) a dress?\n",
      "A\n",
      "Please enter a new dress size:\n",
      "999\n",
      "Stock = [12, 10, 8, 10, 12, 14, 16, 20, 12, 12, 8]\n",
      "The largest dress in the stock is size 20\n",
      "The smallest dress in the stock is size 8\n"
     ]
    }
   ],
   "source": [
    "stock=[]\n",
    "while True:\n",
    "    print(\"Do you wish to add (A) or remove(R) a dress?\")\n",
    "    qn=input()\n",
    "    \n",
    "    if qn.upper()==\"A\":\n",
    "        print(\"Please enter a new dress size:\")\n",
    "        size=int(input())\n",
    "        if size==999:\n",
    "            break\n",
    "        else:\n",
    "            stock.append(size)\n",
    "            print(\"stock=\",stock)\n",
    "            continue\n",
    "    \n",
    "    elif qn.upper()==\"R\":\n",
    "        print(\"Please enter a new dress size:\")\n",
    "        size=int(input())\n",
    "        if size==999:\n",
    "            break\n",
    "        else:\n",
    "            stock.remove(size)\n",
    "            print(\"stock=\",stock)\n",
    "            continue\n",
    "print(\"Stock =\",stock)\n",
    "large=max(stock)\n",
    "small=min(stock)\n",
    "print(\"The largest dress in the stock is size\",large)\n",
    "print(\"The smallest dress in the stock is size\",small)      \n",
    "        \n",
    "        \n",
    "    "
   ]
  },
  {
   "cell_type": "markdown",
   "id": "bc79c010",
   "metadata": {},
   "source": [
    "## WHICH IS BIGGER ?"
   ]
  },
  {
   "cell_type": "code",
   "execution_count": 32,
   "id": "c81b7367",
   "metadata": {},
   "outputs": [
    {
     "name": "stdout",
     "output_type": "stream",
     "text": [
      "I have generated two random numbers.\n",
      "Which is the largest 1 or 2 ?\n",
      "Enter your choice.\n",
      "2\n",
      "Your guess is wrong\n",
      "I have generated two random numbers.\n",
      "Which is the largest 1 or 2 ?\n",
      "Enter your choice.\n",
      "1\n",
      "Correct,number 1 was the largest.\n",
      "1\n",
      "I have generated two random numbers.\n",
      "Which is the largest 1 or 2 ?\n",
      "Enter your choice.\n",
      "1\n",
      "Correct,number 1 was the largest.\n",
      "1\n",
      "I have generated two random numbers.\n",
      "Which is the largest 1 or 2 ?\n",
      "Enter your choice.\n",
      "1\n",
      "Correct,number 1 was the largest.\n",
      "1\n",
      "I have generated two random numbers.\n",
      "Which is the largest 1 or 2 ?\n",
      "Enter your choice.\n",
      "1\n",
      "Correct,number 1 was the largest.\n",
      "1\n",
      "I have generated two random numbers.\n",
      "Which is the largest 1 or 2 ?\n",
      "Enter your choice.\n",
      "1\n",
      "Your guess is wrong\n",
      "I have generated two random numbers.\n",
      "Which is the largest 1 or 2 ?\n",
      "Enter your choice.\n",
      "1\n",
      "Your guess is wrong\n",
      "I have generated two random numbers.\n",
      "Which is the largest 1 or 2 ?\n",
      "Enter your choice.\n",
      "1\n",
      "Your guess is wrong\n",
      "I have generated two random numbers.\n",
      "Which is the largest 1 or 2 ?\n",
      "Enter your choice.\n",
      "1\n",
      "Your guess is wrong\n",
      "I have generated two random numbers.\n",
      "Which is the largest 1 or 2 ?\n",
      "Enter your choice.\n",
      "1\n",
      "Your guess is wrong\n",
      "Your total was 0 correct guesses out of 10\n",
      "Your final score was 0 correct\n"
     ]
    }
   ],
   "source": [
    "import random\n",
    "\n",
    "for loop in range (10):\n",
    "    print(\"I have generated two random numbers.\")\n",
    "    num1=random.randint(1,1000)\n",
    "    num2=random.randint(1,1000)\n",
    "    print(\"Which is the largest 1 or 2 ?\")\n",
    "    print(\"Enter your choice.\")\n",
    "    total=0\n",
    "\n",
    "    choice=int(input())\n",
    "    if(num1>num2 and choice==1) :\n",
    "        print(\"Correct,number 1 was the largest.\")\n",
    "        total=total+1\n",
    "        print(total)\n",
    "    elif(num1<num2 and choice==2):\n",
    "        print(\"Correct,number 2 was the largest.\")\n",
    "        total=total+1\n",
    "        print(total)\n",
    "    else:\n",
    "        print(\"Your guess is wrong\")\n",
    "\n",
    "print(\"Your total was\",total,\"correct guesses out of 10\")\n",
    "print(\"Your final score was\",total, \"correct\")"
   ]
  }
 ],
 "metadata": {
  "kernelspec": {
   "display_name": "Python 3 (ipykernel)",
   "language": "python",
   "name": "python3"
  },
  "language_info": {
   "codemirror_mode": {
    "name": "ipython",
    "version": 3
   },
   "file_extension": ".py",
   "mimetype": "text/x-python",
   "name": "python",
   "nbconvert_exporter": "python",
   "pygments_lexer": "ipython3",
   "version": "3.9.7"
  }
 },
 "nbformat": 4,
 "nbformat_minor": 5
}
